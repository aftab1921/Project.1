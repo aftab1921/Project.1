{
 "cells": [
  {
   "cell_type": "code",
   "execution_count": null,
   "id": "b1df1c10",
   "metadata": {},
   "outputs": [],
   "source": [
    "# 📘 Student Performance Predictor for EduQuest Coaching\n",
    "print('Hello from YBI Foundation 🚀')"
   ]
  }
 ],
 "metadata": {},
 "nbformat": 4,
 "nbformat_minor": 5
}
